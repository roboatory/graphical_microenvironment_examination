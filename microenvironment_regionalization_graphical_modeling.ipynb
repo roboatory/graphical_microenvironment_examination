{
 "cells": [
  {
   "cell_type": "code",
   "execution_count": null,
   "id": "1a72da49",
   "metadata": {},
   "outputs": [],
   "source": [
    "%load_ext autoreload\n",
    "%autoreload 2"
   ]
  },
  {
   "cell_type": "code",
   "execution_count": null,
   "id": "40361de6",
   "metadata": {},
   "outputs": [],
   "source": [
    "import matplotlib.pyplot as plt\n",
    "import numpy as np\n",
    "import os\n",
    "import pandas as pd\n",
    "import random\n",
    "import re\n",
    "from scipy.spatial import Voronoi, Delaunay\n",
    "from sklearn.model_selection import StratifiedShuffleSplit\n",
    "\n",
    "import torch\n",
    "from torch_geometric.loader import DataLoader\n",
    "from torch.nn.functional import cross_entropy\n",
    "from torch.optim import Adam"
   ]
  },
  {
   "cell_type": "code",
   "execution_count": null,
   "id": "663c692c",
   "metadata": {},
   "outputs": [],
   "source": [
    "os.makedirs(\"images\", exist_ok = True)\n",
    "os.makedirs(\"results\", exist_ok = True)"
   ]
  },
  {
   "cell_type": "markdown",
   "id": "87b92d91",
   "metadata": {},
   "source": [
    "# GRAPHICAL CONSTRUCTION"
   ]
  },
  {
   "cell_type": "code",
   "execution_count": null,
   "id": "7930f5ce",
   "metadata": {},
   "outputs": [],
   "source": [
    "from source import graph_utilities"
   ]
  },
  {
   "cell_type": "code",
   "execution_count": null,
   "id": "50b45e1a",
   "metadata": {},
   "outputs": [],
   "source": [
    "edge_representations = {}\n",
    "center_representations = {}\n",
    "\n",
    "for root, directories, files in os.walk(\"../celesta/output\"):\n",
    "    for file in files:\n",
    "        if \"final_cell_type\" in file:\n",
    "            path_parts = root.split(os.path.sep)\n",
    "            \n",
    "            regionalization = path_parts[3]\n",
    "            nodal_status = path_parts[4]\n",
    "            sample_identifier = path_parts[5]\n",
    "            \n",
    "            assignments = pd.read_csv(os.path.join(root, file)).dropna().reset_index(drop = True)\n",
    "            \n",
    "            voronoi = Voronoi(assignments[[\"X\", \"Y\"]].values)\n",
    "            delaunay = Delaunay(assignments[[\"X\", \"Y\"]].values)\n",
    "            \n",
    "            graph = graph_utilities.construct_sample_graph(delaunay, assignments)\n",
    "            \n",
    "            representation = {\n",
    "                \"regionalization\": regionalization,\n",
    "                \"nodal_status\": nodal_status,\n",
    "                \"assignments\": assignments,\n",
    "                \"voronoi\": voronoi,\n",
    "                \"delaunay\": delaunay,\n",
    "                \"graph\": graph\n",
    "            }\n",
    "            \n",
    "            (center_representations if regionalization == \"center\" else edge_representations)[sample_identifier] = representation"
   ]
  },
  {
   "cell_type": "markdown",
   "id": "a3debf2e",
   "metadata": {},
   "source": [
    "here, we visualize an example of the voronoi and delaunay diagrams constructed across an edge sample in its entirety"
   ]
  },
  {
   "cell_type": "code",
   "execution_count": null,
   "id": "226608b2",
   "metadata": {},
   "outputs": [],
   "source": [
    "random.seed(42)\n",
    "\n",
    "edge_sample_name, edge_sample = random.choice(list(edge_representations.items()))\n",
    "\n",
    "fig, ax = plt.subplots(figsize = (15, 10))\n",
    "\n",
    "graph_utilities.plot_voronoi_diagram(edge_sample[\"voronoi\"], edge_sample[\"assignments\"], ax)\n",
    "graph_utilities.plot_delaunay_triangulation(edge_sample[\"delaunay\"], edge_sample[\"assignments\"], ax)\n",
    "\n",
    "ax.set_title(f'{edge_sample_name} ({edge_sample[\"regionalization\"]} / {edge_sample[\"nodal_status\"]})')\n",
    "\n",
    "plt.tight_layout()"
   ]
  },
  {
   "cell_type": "code",
   "execution_count": null,
   "id": "401decc5",
   "metadata": {},
   "outputs": [],
   "source": [
    "sample = True\n",
    "\n",
    "if sample:\n",
    "    random.seed(42)\n",
    "\n",
    "    sampled_edge_representations = dict(random.sample(list(edge_representations.items()), 6))\n",
    "    sampled_center_representations = dict(random.sample(list(center_representations.items()), 6))\n",
    "\n",
    "else:\n",
    "    sampled_edge_representations = edge_representations\n",
    "    sampled_center_representations = center_representations"
   ]
  },
  {
   "cell_type": "code",
   "execution_count": null,
   "id": "c360c7b7",
   "metadata": {},
   "outputs": [],
   "source": [
    "edge_microenvironments = graph_utilities.construct_microenvironments(sampled_edge_representations)\n",
    "center_microenvironments = graph_utilities.construct_microenvironments(sampled_center_representations)"
   ]
  },
  {
   "cell_type": "markdown",
   "id": "bbd3b570",
   "metadata": {},
   "source": [
    "here, we visualize a microenvironment from an edge sample, defined as the 3 hop neighborhood of any cell"
   ]
  },
  {
   "cell_type": "code",
   "execution_count": null,
   "id": "330b5598",
   "metadata": {
    "scrolled": true
   },
   "outputs": [],
   "source": [
    "random.seed(224)\n",
    "\n",
    "edge_sample_name, edge_sample_microenvironments = random.choice(list(edge_microenvironments.items()))\n",
    "edge_center_node = random.choice(range(len(edge_sample_microenvironments)))\n",
    "\n",
    "fig, ax = plt.subplots(figsize = (10, 10))\n",
    "\n",
    "graph_utilities.plot_microenvironment(edge_sample_microenvironments[edge_center_node], edge_center_node, ax)\n",
    "\n",
    "ax.set_title(f\"microenvironment from sample: {edge_sample_name}\")\n",
    "plt.tight_layout()\n",
    "\n",
    "plt.savefig(f\"images/{edge_sample_name}_microenvironment.png\")"
   ]
  },
  {
   "cell_type": "markdown",
   "id": "dcf51481",
   "metadata": {},
   "source": [
    "# MODELS"
   ]
  },
  {
   "cell_type": "code",
   "execution_count": null,
   "id": "aab7b281",
   "metadata": {},
   "outputs": [],
   "source": [
    "from source import data\n",
    "from source import models\n",
    "from source import training_and_evaluation"
   ]
  },
  {
   "cell_type": "code",
   "execution_count": null,
   "id": "ad652a90",
   "metadata": {},
   "outputs": [],
   "source": [
    "mapping = {\n",
    "    \"unknown\": 0,\n",
    "    \"epithelial cell (cytokeratin+)\": 1,\n",
    "    \"endothelial cell (CD31+)\": 2,\n",
    "    \"fibroblast (FAP+)\": 3,\n",
    "    \"stromal cell (CD90+)\": 4,\n",
    "    \"mesenchymal cell (podoplanin+)\": 5,\n",
    "    \"T cell (CD3+)\": 6,\n",
    "    \"B cell (CD20+)\": 7,\n",
    "    \"granulocyte (CD15+)\": 8,\n",
    "    \"dendritic cell (CD11c+)\": 9,\n",
    "    \"macrophage (CD68+)\": 10,\n",
    "    \"macrophage (CD163+)\": 11,\n",
    "    \"macrophage (CD68+ CD163+)\": 12,\n",
    "    \"macrophage (CD68+ CD163-)\": 13,\n",
    "    \"fibroblast (FAP+ CD90+)\": 14,\n",
    "    \"fibroblast (FAP+ CD90-)\": 15,\n",
    "    \"cytotoxic T cell (CD8+)\": 16,\n",
    "    \"helper T cell (CD4+)\": 17,\n",
    "    \"regulatory T cell (CD4+ FOXP3+)\": 18\n",
    "}"
   ]
  },
  {
   "cell_type": "code",
   "execution_count": null,
   "id": "4aa7c5ab",
   "metadata": {},
   "outputs": [],
   "source": [
    "edge_microenvironments = data.prepare_data(edge_microenvironments, mapping, 1)\n",
    "center_microenvironments = data.prepare_data(center_microenvironments, mapping, 0)\n",
    "\n",
    "all_microenvironments = edge_microenvironments + center_microenvironments"
   ]
  },
  {
   "cell_type": "code",
   "execution_count": null,
   "id": "0947bd35",
   "metadata": {},
   "outputs": [],
   "source": [
    "device = torch.device(\"cuda\" if torch.cuda.is_available() else \"cpu\")\n",
    "\n",
    "input_dim = 19\n",
    "output_dim = 2\n",
    "hidden_dim = 64\n",
    "\n",
    "model_type = \"GCN\"\n",
    "model = models.TumorGCNClassifier(input_dim, hidden_dim, output_dim).to(device)\n",
    "\n",
    "optimizer = Adam(model.parameters(), lr = 0.001)\n",
    "\n",
    "features = [microenvironment.x for microenvironment in all_microenvironments]\n",
    "labels = [microenvironment.y.item() for microenvironment in all_microenvironments]\n",
    "\n",
    "splitter = StratifiedShuffleSplit(n_splits = 1, test_size = 0.2, random_state = 42)\n",
    "\n",
    "for train_index, test_index in splitter.split(features, labels):\n",
    "    train_data = [all_microenvironments[i] for i in train_index]\n",
    "    test_data = [all_microenvironments[i] for i in test_index]\n",
    "\n",
    "train_loader = DataLoader(train_data, batch_size = 32, shuffle = True)\n",
    "test_loader = DataLoader(test_data, batch_size = 32, shuffle = False)"
   ]
  },
  {
   "cell_type": "code",
   "execution_count": null,
   "id": "bed66c4c",
   "metadata": {},
   "outputs": [],
   "source": [
    "epochs = 30\n",
    "\n",
    "train_losses_list = []\n",
    "train_metrics_list = []\n",
    "test_metrics_list = []\n",
    "\n",
    "for epoch in range(1, epochs + 1):\n",
    "    train_loss, train_metrics = training_and_evaluation.train_epoch(model, train_loader, optimizer, \n",
    "                                                                        cross_entropy, device)\n",
    "    test_metrics = training_and_evaluation.evaluate_epoch(model, test_loader, device)\n",
    "    \n",
    "    train_losses_list.append(train_loss)\n",
    "    train_metrics_list.append(train_metrics)\n",
    "    test_metrics_list.append(test_metrics)\n",
    "\n",
    "    print(f'epoch {epoch}, loss: {train_loss:.4f}, test accuracy: {test_metrics[\"accuracy\"]:.4f}')    \n",
    "\n",
    "torch.save(model.state_dict(), f\"results/{model_type}.pth\")\n",
    "\n",
    "with open(f\"results/{model_type}_training_losses.txt\", \"w\") as loss_file:\n",
    "    for epoch, loss in enumerate(train_losses_list, 1):\n",
    "        epoch_summary = {\"epoch\": epoch, \"train_loss\": loss}\n",
    "        loss_file.write(f\"{epoch_summary}\\n\")\n",
    "\n",
    "with open(f\"results/{model_type}_training_metrics.txt\", \"w\") as train_file:\n",
    "    for epoch, metrics in enumerate(train_metrics_list, 1):\n",
    "        epoch_summary = {\"epoch\": epoch, **metrics}\n",
    "        train_file.write(f\"{epoch_summary}\\n\")\n",
    "\n",
    "with open(f\"results/{model_type}_evaluation_metrics.txt\", \"w\") as evaluation_file:\n",
    "    for epoch, metrics in enumerate(test_metrics_list, 1):\n",
    "        epoch_summary = {\"epoch\": epoch, **metrics}\n",
    "        evaluation_file.write(f\"{epoch_summary}\\n\")"
   ]
  },
  {
   "cell_type": "markdown",
   "id": "8b647b36",
   "metadata": {},
   "source": [
    "# INTERPRETABILITY"
   ]
  },
  {
   "cell_type": "code",
   "execution_count": null,
   "id": "959f4bcb",
   "metadata": {},
   "outputs": [],
   "source": [
    "from source import interpretability"
   ]
  },
  {
   "cell_type": "code",
   "execution_count": null,
   "id": "829a9b27",
   "metadata": {},
   "outputs": [],
   "source": [
    "model_types = [\"GCN\",\n",
    "               \"GIN\",\n",
    "               \"GAT\"]\n",
    "\n",
    "training_loss_files = [\"results/GCN_training_losses.txt\",\n",
    "                       \"results/GIN_training_losses.txt\",\n",
    "                       \"results/GAT_training_losses.txt\"]"
   ]
  },
  {
   "cell_type": "code",
   "execution_count": null,
   "id": "67363159",
   "metadata": {},
   "outputs": [],
   "source": [
    "interpretability.plot_joint_training_losses(training_loss_files, model_types)"
   ]
  },
  {
   "cell_type": "code",
   "execution_count": null,
   "id": "a77077f1",
   "metadata": {},
   "outputs": [],
   "source": [
    "fig, axes = plt.subplots(1, 3, figsize = (20, 5))\n",
    "\n",
    "for ax, model_type in zip(axes, model_types):\n",
    "    interpretability.plot_performance_measures(f\"results/{model_type}_training_metrics.txt\",\n",
    "                                               f\"results/{model_type}_evaluation_metrics.txt\",\n",
    "                                               model_type, metric = \"f1\", ax = ax)\n",
    "\n",
    "plt.tight_layout()\n",
    "\n",
    "plt.savefig(\"images/performance_measures_comparison.png\")"
   ]
  },
  {
   "cell_type": "code",
   "execution_count": null,
   "id": "5fe203e8",
   "metadata": {},
   "outputs": [],
   "source": [
    "model = models.TumorGATClassifier(input_dim, hidden_dim, output_dim, heads = 3).to(device)\n",
    "model.load_state_dict(torch.load(f\"results/{model_types[-1]}.pth\"))\n",
    "\n",
    "embeddings, probability_predictions, cell_type_proportions = interpretability.extract_embeddings(model, train_loader, device)"
   ]
  },
  {
   "cell_type": "code",
   "execution_count": null,
   "id": "05f72bcd",
   "metadata": {},
   "outputs": [],
   "source": [
    "interpretability.visualize_embeddings(embeddings,\n",
    "                                      probability_predictions,\n",
    "                                      cell_type_proportions,\n",
    "                                      model_types[-1],\n",
    "                                      mapping, 5)"
   ]
  }
 ],
 "metadata": {
  "kernelspec": {
   "display_name": "Python 3 (ipykernel)",
   "language": "python",
   "name": "python3"
  },
  "language_info": {
   "codemirror_mode": {
    "name": "ipython",
    "version": 3
   },
   "file_extension": ".py",
   "mimetype": "text/x-python",
   "name": "python",
   "nbconvert_exporter": "python",
   "pygments_lexer": "ipython3",
   "version": "3.9.4"
  }
 },
 "nbformat": 4,
 "nbformat_minor": 5
}
